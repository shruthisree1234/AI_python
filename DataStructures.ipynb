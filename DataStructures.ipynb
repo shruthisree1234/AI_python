{
 "cells": [
  {
   "cell_type": "code",
   "execution_count": 10,
   "metadata": {},
   "outputs": [
    {
     "name": "stdout",
     "output_type": "stream",
     "text": [
      "[1, 2, 3, 4, 5, 6, 10]\n",
      "['apple', 'orange', 'mango', 'pineapple', 'carrot']\n"
     ]
    }
   ],
   "source": [
    "# Assigning elements to different lists\n",
    "list1=[1,2,3,4,5]\n",
    "list2=['apple','orange','mango']\n",
    "list1.append(6)\n",
    "list1.append(10)\n",
    "list2.append('pineapple')\n",
    "list2.append('carrot')\n",
    "print(list1)\n",
    "print(list2)"
   ]
  },
  {
   "cell_type": "code",
   "execution_count": 13,
   "metadata": {},
   "outputs": [
    {
     "name": "stdout",
     "output_type": "stream",
     "text": [
      "6\n",
      "mango\n",
      "(4, 6, 'apple')\n"
     ]
    }
   ],
   "source": [
    "# Accessing elements from tuple\n",
    "tuple1=(1,4,6,'apple','mango')\n",
    "print(tuple1[2])\n",
    "print(tuple1[-1])\n",
    "print(tuple1[1:-1])\n"
   ]
  },
  {
   "cell_type": "code",
   "execution_count": 26,
   "metadata": {},
   "outputs": [
    {
     "name": "stdout",
     "output_type": "stream",
     "text": [
      "{'Apple': 'Red', 'Mango': 'Yellow', 'Orange': 'Orange', 'Banana': 'Yellow'}\n",
      "{'Mango': 'Yellow', 'Orange': 'Orange', 'Banana': 'Yellow'}\n",
      "{'Tamil': 'Kollywood', 'Hindi': 'Bollywood', 'English': 'Hollywood', 'Malayalam': 'Mollywood'}\n",
      "{'Tamil': 'Kollywood', 'Hindi': 'Bollywood', 'English': 'Hollywood'}\n"
     ]
    }
   ],
   "source": [
    "# Deleting different dictionary elements\n",
    "dict1={\"Apple\":\"Red\",\"Mango\":\"Yellow\",\"Orange\":\"Orange\",\"Banana\":\"Yellow\",}\n",
    "dict2={\"Tamil\":\"Kollywood\", \"Hindi\":\"Bollywood\",\"English\":\"Hollywood\",\"Malayalam\":\"Mollywood\"}\n",
    "print(dict1)\n",
    "del dict1[\"Apple\"]\n",
    "print(dict1)\n",
    "print(dict2)\n",
    "del dict2[\"Malayalam\"]\n",
    "print(dict2)"
   ]
  },
  {
   "cell_type": "code",
   "execution_count": null,
   "metadata": {},
   "outputs": [],
   "source": []
  }
 ],
 "metadata": {
  "kernelspec": {
   "display_name": "Python 3",
   "language": "python",
   "name": "python3"
  },
  "language_info": {
   "codemirror_mode": {
    "name": "ipython",
    "version": 3
   },
   "file_extension": ".py",
   "mimetype": "text/x-python",
   "name": "python",
   "nbconvert_exporter": "python",
   "pygments_lexer": "ipython3",
   "version": "3.7.3"
  }
 },
 "nbformat": 4,
 "nbformat_minor": 2
}
