{
 "cells": [
  {
   "cell_type": "code",
   "execution_count": 1,
   "metadata": {},
   "outputs": [
    {
     "name": "stdout",
     "output_type": "stream",
     "text": [
      "n is 2\n",
      "Fibonacci numbers\n",
      "0\n",
      "1\n"
     ]
    }
   ],
   "source": [
    "n= int(input(\"n is \"))\n",
    "x=0\n",
    "y=1\n",
    "count=0\n",
    "if n<=0:\n",
    "       print(\"invalid- enter positive number\")\n",
    "elif n==1:\n",
    "       print('Fibonacci numbers')\n",
    "       print(x)\n",
    "else:\n",
    "       print('Fibonacci numbers')\n",
    "       while count<n:\n",
    "           print(x)\n",
    "           z=x+y\n",
    "           x=y\n",
    "           y=z\n",
    "           count+=1\n",
    "            \n",
    "       "
   ]
  },
  {
   "cell_type": "code",
   "execution_count": null,
   "metadata": {},
   "outputs": [],
   "source": []
  },
  {
   "cell_type": "code",
   "execution_count": null,
   "metadata": {},
   "outputs": [],
   "source": []
  }
 ],
 "metadata": {
  "kernelspec": {
   "display_name": "Python 3",
   "language": "python",
   "name": "python3"
  },
  "language_info": {
   "codemirror_mode": {
    "name": "ipython",
    "version": 3
   },
   "file_extension": ".py",
   "mimetype": "text/x-python",
   "name": "python",
   "nbconvert_exporter": "python",
   "pygments_lexer": "ipython3",
   "version": "3.7.3"
  }
 },
 "nbformat": 4,
 "nbformat_minor": 2
}
